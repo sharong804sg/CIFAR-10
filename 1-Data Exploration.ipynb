{
 "cells": [
  {
   "cell_type": "markdown",
   "id": "45d5beb7",
   "metadata": {},
   "source": [
    "Environment: pytorch"
   ]
  },
  {
   "cell_type": "markdown",
   "id": "c9eaff28",
   "metadata": {},
   "source": [
    "# <font color = 'purple'>Data Exploration\n",
    "[Dataset documentation](https://www.cs.toronto.edu/~kriz/cifar.html)   \n",
    "In this notebook, we explore the CIFAR-10 dataset, and identify mean and standard-deviation for each channel (R, G, B), to facilitate image normalisation"
   ]
  },
  {
   "cell_type": "code",
   "execution_count": 1,
   "id": "c6286fd6",
   "metadata": {},
   "outputs": [],
   "source": [
    "import torch\n",
    "import torchvision\n",
    "import torchvision.transforms as transforms\n",
    "\n",
    "import matplotlib.pyplot as plt\n",
    "import numpy as np"
   ]
  },
  {
   "cell_type": "markdown",
   "id": "1fed0e30",
   "metadata": {},
   "source": [
    "## <font color = 'blue'>Load training & test datasets\n",
    "- format as dataloader for memory-efficient handling"
   ]
  },
  {
   "cell_type": "code",
   "execution_count": 2,
   "id": "ffc8283a",
   "metadata": {},
   "outputs": [],
   "source": [
    "transform = transforms.Compose([transforms.ToTensor()])"
   ]
  },
  {
   "cell_type": "code",
   "execution_count": 3,
   "id": "6e473895",
   "metadata": {},
   "outputs": [
    {
     "name": "stdout",
     "output_type": "stream",
     "text": [
      "Files already downloaded and verified\n",
      "Files already downloaded and verified\n"
     ]
    }
   ],
   "source": [
    "trainset = torchvision.datasets.CIFAR10(root='./data', train=True, download=True, transform = transform)\n",
    "trainloader = torch.utils.data.DataLoader(trainset, batch_size=5, shuffle=True)\n",
    "\n",
    "testset = torchvision.datasets.CIFAR10(root='./data', train=False, download=True, transform = transform)\n",
    "testloader = torch.utils.data.DataLoader(testset, batch_size=5, shuffle=False)"
   ]
  },
  {
   "cell_type": "code",
   "execution_count": 4,
   "id": "67498ee7",
   "metadata": {},
   "outputs": [
    {
     "data": {
      "text/plain": [
       "(50000, 32, 32, 3)"
      ]
     },
     "execution_count": 4,
     "metadata": {},
     "output_type": "execute_result"
    }
   ],
   "source": [
    "trainset.data.shape"
   ]
  },
  {
   "cell_type": "code",
   "execution_count": 5,
   "id": "54b8ede7",
   "metadata": {},
   "outputs": [
    {
     "data": {
      "text/plain": [
       "(10000, 32, 32, 3)"
      ]
     },
     "execution_count": 5,
     "metadata": {},
     "output_type": "execute_result"
    }
   ],
   "source": [
    "testset.data.shape"
   ]
  },
  {
   "cell_type": "markdown",
   "id": "db2d5940",
   "metadata": {},
   "source": [
    "- Training set has 50,000 images; test set has 10,000 images\n",
    "- Each image is 32px x 32px, and has 3 channels: RGB"
   ]
  },
  {
   "cell_type": "code",
   "execution_count": 6,
   "id": "9f65430e",
   "metadata": {},
   "outputs": [
    {
     "data": {
      "text/plain": [
       "{'airplane': 0,\n",
       " 'automobile': 1,\n",
       " 'bird': 2,\n",
       " 'cat': 3,\n",
       " 'deer': 4,\n",
       " 'dog': 5,\n",
       " 'frog': 6,\n",
       " 'horse': 7,\n",
       " 'ship': 8,\n",
       " 'truck': 9}"
      ]
     },
     "execution_count": 6,
     "metadata": {},
     "output_type": "execute_result"
    }
   ],
   "source": [
    "testset.class_to_idx"
   ]
  },
  {
   "cell_type": "code",
   "execution_count": 7,
   "id": "e25e4808",
   "metadata": {},
   "outputs": [
    {
     "data": {
      "text/plain": [
       "['airplane',\n",
       " 'automobile',\n",
       " 'bird',\n",
       " 'cat',\n",
       " 'deer',\n",
       " 'dog',\n",
       " 'frog',\n",
       " 'horse',\n",
       " 'ship',\n",
       " 'truck']"
      ]
     },
     "execution_count": 7,
     "metadata": {},
     "output_type": "execute_result"
    }
   ],
   "source": [
    "my_classes = testset.classes\n",
    "my_classes"
   ]
  },
  {
   "cell_type": "markdown",
   "id": "0cfebfa3",
   "metadata": {},
   "source": [
    "10 classes as listed above"
   ]
  },
  {
   "cell_type": "code",
   "execution_count": 8,
   "id": "2411ec8d",
   "metadata": {
    "scrolled": false
   },
   "outputs": [
    {
     "data": {
      "text/plain": [
       "Text(0.5, 1.0, 'test set')"
      ]
     },
     "execution_count": 8,
     "metadata": {},
     "output_type": "execute_result"
    },
    {
     "data": {
      "image/png": "[encoded data removed]",
      "text/plain": [
       "<Figure size 700x300 with 2 Axes>"
      ]
     },
     "metadata": {},
     "output_type": "display_data"
    }
   ],
   "source": [
    "fig, [ax1,ax2] = plt.subplots(ncols=2, figsize=(7,3), sharey=True)\n",
    "ax1.hist(trainset.targets, bins=np.arange(0,11)-0.5, rwidth=0.8)\n",
    "ax1.set_title('training set')\n",
    "ax2.hist(testset.targets, bins=np.arange(0,11)-0.5, rwidth=0.8)\n",
    "ax2.set_title('test set')"
   ]
  },
  {
   "cell_type": "markdown",
   "id": "a0e99d0f",
   "metadata": {},
   "source": [
    "Even distribution of classes in both training and test sets"
   ]
  },
  {
   "cell_type": "markdown",
   "id": "8239e80d",
   "metadata": {},
   "source": [
    "## <font color = 'blue'>Show a few random images"
   ]
  },
  {
   "cell_type": "code",
   "execution_count": 9,
   "id": "ed19c288",
   "metadata": {},
   "outputs": [],
   "source": [
    "def imshow(img, myax):\n",
    "    \"\"\"\n",
    "    Displays requested image\n",
    "    :param img: tensor object\n",
    "    :param myax: axis to plot on \n",
    "    \"\"\"\n",
    "    npimg = img.numpy()  # convert tensor to numpy array. Shape is (3 channels x 32 px x 32 px)\n",
    "    myax.imshow(np.transpose(npimg, (1, 2, 0)))  # reshape np array to (32 px x 32 px x 3 ch) and display image. Note imshow requires array shape (MxNx3 for RGB image)\n"
   ]
  },
  {
   "cell_type": "code",
   "execution_count": 10,
   "id": "b6eff166",
   "metadata": {},
   "outputs": [
    {
     "data": {
      "image/png": "[encoded data removed]",
      "text/plain": [
       "<Figure size 1500x250 with 5 Axes>"
      ]
     },
     "metadata": {},
     "output_type": "display_data"
    }
   ],
   "source": [
    "train_iter = iter(trainloader)\n",
    "images, labels = next(train_iter) # returns 5 random training images and their labels\n",
    "\n",
    "fig, ax = plt.subplots(figsize=(15,2.5), ncols=5)\n",
    "ax = ax.flatten()\n",
    "for i in range(len(images)):\n",
    "    imshow(images[i], myax=ax[i])\n",
    "    ax[i].axis('off')\n",
    "    ax[i].set_title(my_classes[labels[i].item()])"
   ]
  },
  {
   "cell_type": "markdown",
   "id": "db51b156",
   "metadata": {},
   "source": [
    "## <font color = 'blue'>Normalise images"
   ]
  },
  {
   "cell_type": "markdown",
   "id": "3867c126",
   "metadata": {},
   "source": [
    "**Get mean & std dev for each channel**"
   ]
  },
  {
   "cell_type": "code",
   "execution_count": 11,
   "id": "49c3b3a3",
   "metadata": {},
   "outputs": [],
   "source": [
    "def get_mean_and_std(dataloader):\n",
    "    channels_sum, channels_squared_sum, num_batches = 0, 0, 0\n",
    "    for data, _ in dataloader:\n",
    "        # Mean over batch, height and width, but not over the channels\n",
    "        channels_sum += torch.mean(data, dim=[0,2,3])\n",
    "        channels_squared_sum += torch.mean(data**2, dim=[0,2,3])\n",
    "        num_batches += 1\n",
    "    \n",
    "    mean = channels_sum / num_batches\n",
    "\n",
    "    # std = sqrt(E[X^2] - (E[X])^2)\n",
    "    std = (channels_squared_sum / num_batches - mean ** 2) ** 0.5\n",
    "\n",
    "    return mean, std"
   ]
  },
  {
   "cell_type": "code",
   "execution_count": 12,
   "id": "ac197e65",
   "metadata": {},
   "outputs": [
    {
     "data": {
      "text/plain": [
       "(tensor([0.4914, 0.4822, 0.4465]), tensor([0.2470, 0.2435, 0.2616]))"
      ]
     },
     "execution_count": 12,
     "metadata": {},
     "output_type": "execute_result"
    }
   ],
   "source": [
    "get_mean_and_std(trainloader)"
   ]
  },
  {
   "cell_type": "code",
   "execution_count": 13,
   "id": "688fc86c",
   "metadata": {},
   "outputs": [
    {
     "data": {
      "text/plain": [
       "(tensor([0.4942, 0.4851, 0.4504]), tensor([0.2467, 0.2429, 0.2616]))"
      ]
     },
     "execution_count": 13,
     "metadata": {},
     "output_type": "execute_result"
    }
   ],
   "source": [
    "get_mean_and_std(testloader)"
   ]
  },
  {
   "cell_type": "markdown",
   "id": "b46441cf",
   "metadata": {},
   "source": [
    "- Note that mean and std dev are very similar for train and test sets. Sufficient to use training set.\n",
    "- values are also similar to ImageNet values: mean = [0.485, 0.456, 0.406] ; std = [0.229, 0.224, 0.225]"
   ]
  },
  {
   "cell_type": "code",
   "execution_count": 14,
   "id": "15b9d875",
   "metadata": {},
   "outputs": [],
   "source": [
    "mean, std = get_mean_and_std(trainloader)"
   ]
  },
  {
   "cell_type": "markdown",
   "id": "4306575a",
   "metadata": {},
   "source": [
    "**Normalise data**"
   ]
  },
  {
   "cell_type": "code",
   "execution_count": 15,
   "id": "80540a83",
   "metadata": {},
   "outputs": [],
   "source": [
    "my_transforms = transforms.Compose([transforms.ToTensor(),\n",
    "                                    transforms.Normalize(mean, std)])"
   ]
  },
  {
   "cell_type": "code",
   "execution_count": 16,
   "id": "e2450aa5",
   "metadata": {},
   "outputs": [
    {
     "name": "stdout",
     "output_type": "stream",
     "text": [
      "Files already downloaded and verified\n",
      "Files already downloaded and verified\n"
     ]
    }
   ],
   "source": [
    "trainset = torchvision.datasets.CIFAR10(root='./data', train=True, download=True, transform = my_transforms)\n",
    "trainloader = torch.utils.data.DataLoader(trainset, batch_size=5, shuffle=True)\n",
    "\n",
    "testset = torchvision.datasets.CIFAR10(root='./data', train=False, download=True, transform = my_transforms)\n",
    "testloader = torch.utils.data.DataLoader(testset, batch_size=5, shuffle=False)"
   ]
  },
  {
   "cell_type": "markdown",
   "id": "77802b5e",
   "metadata": {},
   "source": [
    "**Check new mean & std dev**"
   ]
  },
  {
   "cell_type": "code",
   "execution_count": 17,
   "id": "614f91df",
   "metadata": {},
   "outputs": [
    {
     "data": {
      "text/plain": [
       "(tensor([-3.6911e-06,  1.0894e-06, -1.4311e-06]),\n",
       " tensor([1.0000, 1.0000, 1.0000]))"
      ]
     },
     "execution_count": 17,
     "metadata": {},
     "output_type": "execute_result"
    }
   ],
   "source": [
    "get_mean_and_std(trainloader)"
   ]
  },
  {
   "cell_type": "code",
   "execution_count": 18,
   "id": "79316c52",
   "metadata": {},
   "outputs": [
    {
     "data": {
      "text/plain": [
       "(tensor([0.0114, 0.0122, 0.0148]), tensor([0.9985, 0.9976, 1.0000]))"
      ]
     },
     "execution_count": 18,
     "metadata": {},
     "output_type": "execute_result"
    }
   ],
   "source": [
    "get_mean_and_std(testloader)"
   ]
  },
  {
   "cell_type": "markdown",
   "id": "ee46118b",
   "metadata": {},
   "source": [
    "**Save mean & std dev to use for future transformations**"
   ]
  },
  {
   "cell_type": "code",
   "execution_count": 19,
   "id": "d8b2de7e",
   "metadata": {},
   "outputs": [
    {
     "data": {
      "text/plain": [
       "(tensor([0.4914, 0.4822, 0.4465]), tensor([0.2470, 0.2435, 0.2616]))"
      ]
     },
     "execution_count": 19,
     "metadata": {},
     "output_type": "execute_result"
    }
   ],
   "source": [
    "mean , std"
   ]
  },
  {
   "cell_type": "code",
   "execution_count": 20,
   "id": "24b5d706",
   "metadata": {},
   "outputs": [],
   "source": [
    "torch.save(mean, 'mean.pt')\n",
    "torch.save(std, 'std_dev.pt')"
   ]
  },
  {
   "cell_type": "code",
   "execution_count": null,
   "id": "826ff751",
   "metadata": {},
   "outputs": [],
   "source": []
  }
 ],
 "metadata": {
  "kernelspec": {
   "display_name": "Python 3 (ipykernel)",
   "language": "python",
   "name": "python3"
  },
  "language_info": {
   "codemirror_mode": {
    "name": "ipython",
    "version": 3
   },
   "file_extension": ".py",
   "mimetype": "text/x-python",
   "name": "python",
   "nbconvert_exporter": "python",
   "pygments_lexer": "ipython3",
   "version": "3.9.13"
  }
 },
 "nbformat": 4,
 "nbformat_minor": 5
}
